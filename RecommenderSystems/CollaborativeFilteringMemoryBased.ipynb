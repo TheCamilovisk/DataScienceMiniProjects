{
 "cells": [
  {
   "cell_type": "markdown",
   "metadata": {},
   "source": [
    "# Collaborative Filtering based Recommender System\n",
    "\n",
    "<figure style=\"display: block; margin-left: auto; margin-right: auto; width: 90%; text-align: center;\">\n",
    "  <img src=\"figures/recommender_systems.png\" alt=\"Recommender Systems.\">\n",
    "</figure>"
   ]
  },
  {
   "cell_type": "markdown",
   "metadata": {},
   "source": [
    "Recommender systems are one of the most successful and widespread application of machine learning technologies in industry. The ability to suggest products with most appealing factor to each consumer type of your clients base is trivial not only to keep your clients engaged, but to atract new costumers. The business model and success of big companys like Netflix, Amazon, Steam, Spotify, YouTube and many others, revolves around the potency of their *Recommender Systems*.\n",
    "\n",
    "A recommender system deals with the task of predict the degree of similarity between items (movies, songs, clothing, shoes, etc) or users in a database. Based on these similarities the system can provide personalized *recommendations* of items for users.\n",
    "\n",
    "Generally speaking, recommender systems can be classified into 3 types:\n",
    "\n",
    "* **Collaborative Filtering based:** These systems predict the rating or preference that a user would give an item based on past user ratings or preferences. No item metadata is required, in contrast to its content-based counterparts.\n",
    "\n",
    "* **Content-based Filtering:** These systems predict the item rating or user preference based on item metadata (genre, director, description, actors, color, etc) and user preferences and history. These systems dependes highly on item metadata.\n",
    "\n",
    "* **Hybrid systems:** These systems try to leverage the best of both worlds and constitutes a wide range of state-of-art techniques in industry. These are complex systems, usually made of multiple smaller subsystems.\n",
    "\n",
    "Those system types have their own pros and cons. In this post we'll implement a simple Collaborative Filtering based system."
   ]
  },
  {
   "cell_type": "markdown",
   "metadata": {},
   "source": [
    "# Collaborative Filtering\n",
    "\n",
    "As said before, Collabortative Filtering (CF) is a type of recommendation technique that uses similarities between users (or items) to infer the possible level of interest of a user to a item unrated by him. These similarities are computed using sonenly existing user ratings for items. Thus specific item description metadata is not needed.\n",
    "\n",
    "There are two general CF approaches:\n",
    "\n",
    "* **User-based**, which exploits similarities between **users**. A rating prediction of an user to an item is computed using the item ratings given by similar users.\n",
    "* **Item-based**, which exploits similarities between **items**. A rating prediction of an user to an item is computed using ratings of similar items.\n",
    "<figure style=\"display: block; margin-left: auto; margin-right: auto; width: 90%; text-align: center;\">\n",
    "  <img src=\"figures/CF_approachs.png\" alt=\"CF approaches.\">\n",
    "    <figcaption>Collaborative Filtering approaches.</figcaption>\n",
    "</figure>"
   ]
  },
  {
   "cell_type": "markdown",
   "metadata": {},
   "source": [
    "In both cases, the first step to build the system is to compute an **interactions matrix**, where each row contains the ratings given by a user to all items in database, and each columns contains the ratings given by all users to an specific item.\n",
    "\n",
    "Figure below illustrate an example interactions matrix. User ratings are in range 1 to 5. A rating 0 means that this specific item was not rated by this specific user.\n",
    "\n",
    "<figure style=\"display: block; margin-left: auto; margin-right: auto; width: 90%; text-align: center;\">\n",
    "  <img src=\"figures/sample_iter_mat.png\" alt=\"Example interaction matrix\">\n",
    "  <figcaption>Example interaction matrix</figcaption>\n",
    "</figure>"
   ]
  },
  {
   "cell_type": "markdown",
   "metadata": {},
   "source": [
    "The **interactions matrix** is, naturally, an *sparse matrix*: in practical scenarios, the majority of the users may not have rated the majority of the items. This may lead to adoption of specific algorithms to deal with sparse data.\n",
    "\n",
    "Two main algorithm types are used to implement recommender systems (either item-based or user-based):\n",
    "\n",
    "* **Memory based**, in which statistical techniques are applied to the entire dataset to calculate the rating predictions.\n",
    "\n",
    "* **Model based**, which involve steps to reduce or compress the large, but possibly sparse, interactions matrix.\n",
    "\n",
    "In this post, we'll use a *memory based* strategy, which is simpler to explain and easier to understand. In a future post we'll cover the implementation of a *model based* approach."
   ]
  },
  {
   "cell_type": "code",
   "execution_count": 1,
   "metadata": {},
   "outputs": [
    {
     "name": "stderr",
     "output_type": "stream",
     "text": [
      "/mnt/3273eabb-9e14-47b4-8ddd-ddb77dddcd30/workspace/DataScienceMiniProjects/RecommenderSystems/.venv/lib/python3.10/site-packages/tqdm/auto.py:21: TqdmWarning: IProgress not found. Please update jupyter and ipywidgets. See https://ipywidgets.readthedocs.io/en/stable/user_install.html\n",
      "  from .autonotebook import tqdm as notebook_tqdm\n"
     ]
    }
   ],
   "source": [
    "import os\n",
    "\n",
    "import numpy as np\n",
    "import pandas as pd\n",
    "from sklearn.metrics import mean_squared_error\n",
    "\n",
    "import optuna\n",
    "\n",
    "import matplotlib.pyplot as plt\n",
    "\n",
    "import re"
   ]
  },
  {
   "cell_type": "markdown",
   "metadata": {},
   "source": [
    "# The MovieLens 100K Dataset\n",
    "\n",
    "There are a number of datasets available for recommendations systems research. Amongst them, the [MovieLens](https://grouplens.org/datasets/movielens) dataset is probably one of the more popular ones. MovieLens is a non-commercial web-based movie recommender system, created in 1997 and run by the GroupLens Research Project, at University of Minnesota. It's data has been critical for several research studies including personalized recommendation and social psychology.\n",
    "\n",
    "There are several versions of the dataset available. We'll use the well-known [MovieLens 100k](https://grouplens.org/datasets/movielens/100k/), which consists of 100,000 ratings form 943 users on 1682 movies. Some simple demographic information such as age, gender, genres for the users and items are also available, but we'll not use them."
   ]
  },
  {
   "cell_type": "code",
   "execution_count": 2,
   "metadata": {},
   "outputs": [],
   "source": [
    "if not os.path.isdir(\"ml-100k\"):\n",
    "    # # Download the dataset\n",
    "    !wget http://files.grouplens.org/datasets/movielens/ml-100k.zip\n",
    "    # # Unzip it\n",
    "    !unzip ml-100k.zip\n",
    "    # # Get rid of the .zip file\n",
    "    !rm ml-100k.zip"
   ]
  },
  {
   "cell_type": "markdown",
   "metadata": {},
   "source": [
    "The dataset folder contains several files, but we need only two of them:\n",
    "\n",
    "* **u.data**: The full dataset with 100,000 user ratings. Each user has rated at least 20 movies.\n",
    "* **u.item**: Contains informations about the movies, but we will use only movies ids and titles. This data is not required for the understanding of the CF technique, but we will use it for a more friendly feedback of our system.\n",
    "\n",
    "Let's begin by loading the ratings dataframe."
   ]
  },
  {
   "cell_type": "code",
   "execution_count": 3,
   "metadata": {},
   "outputs": [
    {
     "data": {
      "text/html": [
       "<div>\n",
       "<style scoped>\n",
       "    .dataframe tbody tr th:only-of-type {\n",
       "        vertical-align: middle;\n",
       "    }\n",
       "\n",
       "    .dataframe tbody tr th {\n",
       "        vertical-align: top;\n",
       "    }\n",
       "\n",
       "    .dataframe thead th {\n",
       "        text-align: right;\n",
       "    }\n",
       "</style>\n",
       "<table border=\"1\" class=\"dataframe\">\n",
       "  <thead>\n",
       "    <tr style=\"text-align: right;\">\n",
       "      <th></th>\n",
       "      <th>user_id</th>\n",
       "      <th>movie_id</th>\n",
       "      <th>rating</th>\n",
       "    </tr>\n",
       "  </thead>\n",
       "  <tbody>\n",
       "    <tr>\n",
       "      <th>0</th>\n",
       "      <td>196</td>\n",
       "      <td>242</td>\n",
       "      <td>3</td>\n",
       "    </tr>\n",
       "    <tr>\n",
       "      <th>1</th>\n",
       "      <td>186</td>\n",
       "      <td>302</td>\n",
       "      <td>3</td>\n",
       "    </tr>\n",
       "    <tr>\n",
       "      <th>2</th>\n",
       "      <td>22</td>\n",
       "      <td>377</td>\n",
       "      <td>1</td>\n",
       "    </tr>\n",
       "    <tr>\n",
       "      <th>3</th>\n",
       "      <td>244</td>\n",
       "      <td>51</td>\n",
       "      <td>2</td>\n",
       "    </tr>\n",
       "    <tr>\n",
       "      <th>4</th>\n",
       "      <td>166</td>\n",
       "      <td>346</td>\n",
       "      <td>1</td>\n",
       "    </tr>\n",
       "    <tr>\n",
       "      <th>...</th>\n",
       "      <td>...</td>\n",
       "      <td>...</td>\n",
       "      <td>...</td>\n",
       "    </tr>\n",
       "    <tr>\n",
       "      <th>99995</th>\n",
       "      <td>880</td>\n",
       "      <td>476</td>\n",
       "      <td>3</td>\n",
       "    </tr>\n",
       "    <tr>\n",
       "      <th>99996</th>\n",
       "      <td>716</td>\n",
       "      <td>204</td>\n",
       "      <td>5</td>\n",
       "    </tr>\n",
       "    <tr>\n",
       "      <th>99997</th>\n",
       "      <td>276</td>\n",
       "      <td>1090</td>\n",
       "      <td>1</td>\n",
       "    </tr>\n",
       "    <tr>\n",
       "      <th>99998</th>\n",
       "      <td>13</td>\n",
       "      <td>225</td>\n",
       "      <td>2</td>\n",
       "    </tr>\n",
       "    <tr>\n",
       "      <th>99999</th>\n",
       "      <td>12</td>\n",
       "      <td>203</td>\n",
       "      <td>3</td>\n",
       "    </tr>\n",
       "  </tbody>\n",
       "</table>\n",
       "<p>100000 rows × 3 columns</p>\n",
       "</div>"
      ],
      "text/plain": [
       "       user_id  movie_id  rating\n",
       "0          196       242       3\n",
       "1          186       302       3\n",
       "2           22       377       1\n",
       "3          244        51       2\n",
       "4          166       346       1\n",
       "...        ...       ...     ...\n",
       "99995      880       476       3\n",
       "99996      716       204       5\n",
       "99997      276      1090       1\n",
       "99998       13       225       2\n",
       "99999       12       203       3\n",
       "\n",
       "[100000 rows x 3 columns]"
      ]
     },
     "execution_count": 3,
     "metadata": {},
     "output_type": "execute_result"
    }
   ],
   "source": [
    "ratings = pd.read_csv(\n",
    "    \"ml-100k/u.data\",\n",
    "    sep=\"\\t\", # this is a tab separated data\n",
    "    names=[\"user_id\", \"movie_id\", \"rating\", \"timestamp\"], # the columns names\n",
    "    usecols=[\"user_id\", \"movie_id\", \"rating\"], # we do not need the timestamp column\n",
    "    low_memory=False\n",
    ")\n",
    "ratings"
   ]
  },
  {
   "cell_type": "markdown",
   "metadata": {},
   "source": [
    "Each entry consists in a *user_id*, *movie_id* and a movie *rating* in range of 1 to 5.\n",
    "\n",
    "The next information we need is the number of movies and users in the dataset. Although we already know this from the dataset information, for didactic purposes we'll get them from the data itself."
   ]
  },
  {
   "cell_type": "code",
   "execution_count": 4,
   "metadata": {},
   "outputs": [
    {
     "name": "stdout",
     "output_type": "stream",
     "text": [
      "Number of users: 943 -- Number of movies: 1682\n"
     ]
    }
   ],
   "source": [
    "n_users = len(ratings.user_id.unique())\n",
    "n_movies = len(ratings.movie_id.unique())\n",
    "\n",
    "print(f\"Number of users: {n_users} -- Number of movies: {n_movies}\")"
   ]
  },
  {
   "cell_type": "markdown",
   "metadata": {},
   "source": [
    "## Train/test split\n",
    "\n",
    "Now we'll create the train and test sets that we will use to evaluate the performance of our system. 20% of each user ratings will be used for testing, and the remaining that will be used for training."
   ]
  },
  {
   "cell_type": "code",
   "execution_count": 5,
   "metadata": {},
   "outputs": [
    {
     "data": {
      "text/plain": [
       "((80000, 3), (20000, 3))"
      ]
     },
     "execution_count": 5,
     "metadata": {},
     "output_type": "execute_result"
    }
   ],
   "source": [
    "test_perc = 0.2\n",
    "\n",
    "# Initialize the train and test dataframes.\n",
    "train_set, test_set = pd.DataFrame(), pd.DataFrame()\n",
    "\n",
    "# Check each user.\n",
    "for user_id in ratings.user_id.unique():\n",
    "    user_df = ratings[ratings.user_id == user_id].sample(\n",
    "        frac=1,\n",
    "        random_state=42\n",
    "    ) # select only samples of the actual user and shuffle the resulting dataframe\n",
    "    \n",
    "    n_entries = len(user_df)\n",
    "    n_test = int(round(test_perc * n_entries))\n",
    "    \n",
    "    test_set = pd.concat((test_set, user_df.tail(n_test)))\n",
    "    train_set = pd.concat((train_set, user_df.head(n_entries - n_test)))\n",
    "\n",
    "train_set = train_set.sample(frac=1).reset_index(drop=True)\n",
    "test_set = test_set.sample(frac=1).reset_index(drop=True)\n",
    "\n",
    "train_set.shape, test_set.shape"
   ]
  },
  {
   "cell_type": "markdown",
   "metadata": {},
   "source": [
    "We also need a function to compute the *interactions matrix* of a given ratings dataframe."
   ]
  },
  {
   "cell_type": "code",
   "execution_count": 6,
   "metadata": {},
   "outputs": [],
   "source": [
    "def build_interactions_matrix(r_mat, n_users, n_items):\n",
    "    iter_m = np.zeros((n_users, n_items))\n",
    "    \n",
    "    for _, user_id, movie_id, rating in r_mat.itertuples():\n",
    "        iter_m[user_id-1, movie_id-1] = rating\n",
    "    \n",
    "    return iter_m"
   ]
  },
  {
   "cell_type": "code",
   "execution_count": 7,
   "metadata": {},
   "outputs": [
    {
     "data": {
      "text/plain": [
       "(943, 1682)"
      ]
     },
     "execution_count": 7,
     "metadata": {},
     "output_type": "execute_result"
    }
   ],
   "source": [
    "iter_m = build_interactions_matrix(ratings, n_users, n_movies)\n",
    "iter_m.shape"
   ]
  },
  {
   "cell_type": "markdown",
   "metadata": {},
   "source": [
    "## Memory based approach\n",
    "\n",
    "In this post we'll build our system using the **memory based** approach, in which similarities between users/items are computed using the rating data itself. Therefore, the *i*-th row of an interactions matrix is considered as the **feature vector** of user *i*, while the *j*-th column of an interaction matrix is considered as the **feature vector** of item *j*.\n",
    "\n",
    "<figure style=\"display: block; margin-left: auto; margin-right: auto; width: 90%; text-align: center;\">\n",
    "  <img src=\"figures/memory_based.png\" alt=\"Feature vectors in CF memory-based approach\">\n",
    "  <figcaption>Feature vectors in CF memory-based approach</figcaption>\n",
    "</figure>"
   ]
  },
  {
   "cell_type": "markdown",
   "metadata": {},
   "source": [
    "The similarity between two users is represented by some **distance measurement** between their feature vectors. Multiple measures, such as Pearson correlation and vector cosine are used for this. For example, the similarity between users $u$ and $u'$ can be computed using vector cosine as:\n",
    "$$\n",
    "sim(u, u') = cos(\\textbf{r}_u, \\textbf{r}_{u'}) = \n",
    "\\frac{\\textbf{r}_u \\textbf{.} \\textbf{r}_{u'}}{|\\textbf{r}_u||\\textbf{r}_{u'}|} =\n",
    "\\frac{\\sum_i r_{ui}r_{u'i}}{\\sqrt{\\sum_i r_{ui}^2}\\sqrt{\\sum_i r_{u'i}^2}}\n",
    "$$\n",
    "where $\\textbf{r}_u$ and $\\textbf{r}_{u'}$ are the feature vectors of users $u$ and $u'$, respectively, and $r_{ui}$ is a rating value given by user $u$ to item $i$. The same procedure is applied when computing the similarity between items $i$ and $i'$."
   ]
  },
  {
   "cell_type": "code",
   "execution_count": 8,
   "metadata": {},
   "outputs": [],
   "source": [
    "def build_similarity_matrix(interactions_matrix, kind=\"user\", eps=1e-9):\n",
    "    # takes rows as user features\n",
    "    if kind == \"user\":\n",
    "        similarity_matrix = interactions_matrix.dot(interactions_matrix.T)\n",
    "    # takes columns as item features\n",
    "    elif kind == \"item\":\n",
    "        similarity_matrix = interactions_matrix.T.dot(interactions_matrix)\n",
    "    norms = np.sqrt(similarity_matrix.diagonal()) + eps\n",
    "    return similarity_matrix / (norms[np.newaxis, :] * norms[:, np.newaxis])"
   ]
  },
  {
   "cell_type": "code",
   "execution_count": 9,
   "metadata": {},
   "outputs": [
    {
     "name": "stdout",
     "output_type": "stream",
     "text": [
      "User similarity matrix shape: (943, 943)\n",
      "User similarity matrix sample:\n",
      "[[1.         0.16693098 0.04745954 0.06435782]\n",
      " [0.16693098 1.         0.11059132 0.17812119]\n",
      " [0.04745954 0.11059132 1.         0.34415072]\n",
      " [0.06435782 0.17812119 0.34415072 1.        ]]\n",
      "-------------------------------------------------------------------------------------------------\n",
      "Item similarity matrix shape: (1682, 1682)\n",
      "Item similarity matrix sample:\n",
      "[[1.         0.40238218 0.33024479 0.45493792]\n",
      " [0.40238218 1.         0.27306918 0.50257077]\n",
      " [0.33024479 0.27306918 1.         0.32486639]\n",
      " [0.45493792 0.50257077 0.32486639 1.        ]]\n"
     ]
    }
   ],
   "source": [
    "u_sim = build_similarity_matrix(iter_m, kind=\"user\")\n",
    "i_sim = build_similarity_matrix(iter_m, kind=\"item\")\n",
    "\n",
    "print(f\"User similarity matrix shape: {u_sim.shape}\\nUser similarity matrix sample:\\n{u_sim[:4, :4]}\")\n",
    "print(\"-\" * 97)\n",
    "print(f\"Item similarity matrix shape: {i_sim.shape}\\nItem similarity matrix sample:\\n{i_sim[:4, :4]}\")"
   ]
  },
  {
   "cell_type": "markdown",
   "metadata": {},
   "source": [
    "The similarity matrix is a symmetric matrix with values in range 0 to 1. The diagonal elements contains the auto-similarities of all users/items, so all elements are equal to 1."
   ]
  },
  {
   "cell_type": "markdown",
   "metadata": {},
   "source": [
    "# Making Predictions\n",
    "\n",
    "Now we are able to make predictions. Depending on which approach we have chosen for our system, we have two different objectives:\n",
    "\n",
    "1. If we choose the user-based approach, we'll infer a missing rating $r_{ui}$ of an user $u$ to an item $i$ by taking the normalized weighted sum of **all ratings of other users to this item**.\n",
    "\n",
    "$$\n",
    "r_{ui} = \\frac{\\sum_{u'} sim(u, u')r_{u'i}}{\\sum_{u'} |sim(u, u')|}\n",
    "$$\n",
    "\n",
    "2. If we choose the item-based approach instead, we'll infer a missing rating $r_{ui}$ of an user $u$ to an item $i$ by taking the normalized weighted sum of **all other ratings of this user to the other items**.\n",
    "\n",
    "$$\n",
    "r_{ui} = \\frac{\\sum_{i'} sim(i, i')r_{ui'}}{\\sum_{i'} |sim(i, i')|}\n",
    "$$"
   ]
  },
  {
   "cell_type": "markdown",
   "metadata": {},
   "source": [
    "## The Recommender class\n",
    "\n",
    "Let's build a *Recommender* class, that will do all the heavy lifting of compute/store the similarity matrices and make rating predictions for us."
   ]
  },
  {
   "cell_type": "code",
   "execution_count": 10,
   "metadata": {},
   "outputs": [],
   "source": [
    "class Recommender:\n",
    "    def __init__(\n",
    "        self,\n",
    "        n_users,\n",
    "        n_items,\n",
    "        r_mat,\n",
    "        kind=\"user\",\n",
    "        eps=1e-9,\n",
    "    ):\n",
    "        self.n_users = n_users\n",
    "        self.n_items = n_items\n",
    "        self.kind = kind\n",
    "        self.eps = eps\n",
    "        self.iter_m = build_interactions_matrix(r_mat, self.n_users, self.n_items)\n",
    "        self.sim_m = build_similarity_matrix(self.iter_m, kind=self.kind)\n",
    "        self.predictions = self._predict_all()\n",
    "    \n",
    "    def _predict_all(self):\n",
    "        if self.kind == \"user\":\n",
    "            predictions = \\\n",
    "                self.sim_m.dot(self.iter_m) / np.abs(self.sim_m + self.eps).sum(axis=0)[:, np.newaxis]\n",
    "        elif self.kind == \"item\":\n",
    "            predictions = \\\n",
    "                self.iter_m.dot(self.sim_m) / np.abs(self.sim_m + self.eps).sum(axis=0)[np.newaxis, :]\n",
    "        return predictions"
   ]
  },
  {
   "cell_type": "code",
   "execution_count": 11,
   "metadata": {},
   "outputs": [
    {
     "name": "stdout",
     "output_type": "stream",
     "text": [
      "User-based predictions sample:\n",
      "[[1.83706987 0.6257035  0.33869847 1.00876026]\n",
      " [1.5422442  0.27024912 0.23318095 0.48654518]\n",
      " [0.9610046  0.22919461 0.16521262 0.38923742]\n",
      " [1.2288292  0.27348381 0.20238746 0.47424947]]\n",
      "-------------------------------------------------------------------------------------------------\n",
      "item-based predictions sample:\n",
      "[[0.97004593 0.88005233 0.88561114 0.94116817]\n",
      " [0.23553281 0.1252388  0.17800975 0.15055959]\n",
      " [0.08729475 0.0632449  0.0812641  0.06648524]\n",
      " [0.07542813 0.05258989 0.06783286 0.05653723]]\n"
     ]
    }
   ],
   "source": [
    "print(\"User-based predictions sample:\")\n",
    "print(Recommender(n_users, n_movies, train_set, kind=\"user\").predictions[:4, :4])\n",
    "print(\"-\" * 97)\n",
    "print(\"item-based predictions sample:\")\n",
    "print(Recommender(n_users, n_movies, train_set, kind=\"item\").predictions[:4, :4])"
   ]
  },
  {
   "cell_type": "markdown",
   "metadata": {},
   "source": [
    "## Model evaluation\n",
    "\n",
    "Now it's time to assess the predictor performance. For this we'll use *Mean Squared Error* (MSE) metric."
   ]
  },
  {
   "cell_type": "code",
   "execution_count": 12,
   "metadata": {},
   "outputs": [],
   "source": [
    "def build_predictions_df(preds_m, dataframe):\n",
    "    preds_v = []\n",
    "    for row_id, user_id, movie_id, _ in dataframe.itertuples():\n",
    "        preds_v.append(preds_m[user_id-1, movie_id-1])\n",
    "    preds_df = pd.DataFrame(data={\"user_id\": dataframe.user_id, \"movie_id\": dataframe.movie_id, \"rating\": preds_v})\n",
    "    return preds_df\n",
    "\n",
    "def get_mse(estimator, train_set, test_set):\n",
    "    train_preds = build_predictions_df(estimator.predictions, train_set)\n",
    "    test_preds = build_predictions_df(estimator.predictions, test_set)\n",
    "    \n",
    "    train_mse = mean_squared_error(train_set.rating, train_preds.rating)\n",
    "    test_mse = mean_squared_error(test_set.rating, test_preds.rating)\n",
    "    \n",
    "    return train_mse, test_mse"
   ]
  },
  {
   "cell_type": "code",
   "execution_count": 13,
   "metadata": {},
   "outputs": [
    {
     "name": "stdout",
     "output_type": "stream",
     "text": [
      "User-based train MSE: 8.703104242707171 -- User-based test MSE: 8.914272669040075\n",
      "-------------------------------------------------------------------------------------------------\n",
      "Item-based train MSE: 9.436480326757003 -- Item-based test MSE: 9.726712690862362\n"
     ]
    }
   ],
   "source": [
    "train_mse, test_mse = get_mse(\n",
    "    Recommender(n_users, n_movies, train_set, kind=\"user\"),\n",
    "    train_set,\n",
    "    test_set\n",
    ")\n",
    "\n",
    "print(f\"User-based train MSE: {train_mse} -- User-based test MSE: {test_mse}\")\n",
    "print(\"-\" * 97)\n",
    "\n",
    "train_mse, test_mse = get_mse(\n",
    "    Recommender(n_users, n_movies, train_set, kind=\"item\"),\n",
    "    train_set,\n",
    "    test_set\n",
    ")\n",
    "\n",
    "print(f\"Item-based train MSE: {train_mse} -- Item-based test MSE: {test_mse}\")"
   ]
  },
  {
   "cell_type": "markdown",
   "metadata": {},
   "source": [
    "## K-nearest neighbors\n",
    "\n",
    "At this point the rating predictions are computed using the ratings of either all users or all items. This means that even the users/items with low similarity scores will be acounted for the prediction computation. A better approach is to take an smaller subset of the most similar users/items to make a prediction. This technique is usually refered as *k-nearest neighbors*, or *KNN* algorithm.\n",
    "\n",
    "We'll adapt our Estimator class to use only the most similar users/items to make an prediction."
   ]
  },
  {
   "cell_type": "code",
   "execution_count": 14,
   "metadata": {},
   "outputs": [],
   "source": [
    "class Recommender:\n",
    "    def __init__(\n",
    "        self,\n",
    "        n_users,\n",
    "        n_items,\n",
    "        r_mat,\n",
    "        k=40, # the number of neighbors to use when computing the similarity score\n",
    "        kind=\"user\",\n",
    "        eps=1e-9\n",
    "    ):\n",
    "        self.n_users = n_users\n",
    "        self.n_items = n_items\n",
    "        self.kind = kind\n",
    "        self.eps = eps\n",
    "        self.iter_m = build_interactions_matrix(r_mat, self.n_users, self.n_items)\n",
    "        self.sim_m = build_similarity_matrix(self.iter_m, kind=self.kind)\n",
    "        self.k = k\n",
    "        self.predictions = self._predict_all()\n",
    "    \n",
    "    def _predict_all(self):\n",
    "        pred = np.empty_like(self.iter_m)\n",
    "        if self.kind == \"user\":\n",
    "            # An user has the higher similarity score with itself,\n",
    "            # so we skip the first element.\n",
    "            sorted_ids = np.argsort(-self.sim_m)[:, 1:self.k+1]\n",
    "            for user_id, k_users in enumerate(sorted_ids):\n",
    "                pred[user_id, :] = self.sim_m[user_id, k_users].dot(self.iter_m[k_users, :])\n",
    "                pred[user_id, :] /= np.abs(self.sim_m[user_id, k_users] + self.eps).sum()\n",
    "        elif self.kind == \"item\":\n",
    "            # An item has the higher similarity score with itself,\n",
    "            # so we skip the first element.\n",
    "            sorted_ids = np.argsort(-self.sim_m)[:, 1:self.k+1]\n",
    "            for item_id, k_items in enumerate(sorted_ids):\n",
    "                pred[:, item_id] = self.sim_m[item_id, k_items].dot(self.iter_m[:, k_items].T)\n",
    "                pred[:, item_id] /= np.abs(self.sim_m[item_id, k_items] + self.eps).sum()\n",
    "        return pred"
   ]
  },
  {
   "cell_type": "code",
   "execution_count": 15,
   "metadata": {},
   "outputs": [
    {
     "name": "stdout",
     "output_type": "stream",
     "text": [
      "User-based train MSE: 5.490605431419921 -- User-based test MSE: 6.174640689172995\n",
      "-------------------------------------------------------------------------------------------------\n",
      "Item-based train MSE: 4.985672850673028 -- Item-based test MSE: 5.713362919538134\n"
     ]
    }
   ],
   "source": [
    "train_mse, test_mse = get_mse(\n",
    "    Recommender(n_users, n_movies, train_set, kind=\"user\"),\n",
    "    train_set,\n",
    "    test_set\n",
    ")\n",
    "\n",
    "print(f\"User-based train MSE: {train_mse} -- User-based test MSE: {test_mse}\")\n",
    "print(\"-\" * 97)\n",
    "\n",
    "train_mse, test_mse = get_mse(\n",
    "    Recommender(n_users, n_movies, train_set, kind=\"item\"),\n",
    "    train_set,\n",
    "    test_set\n",
    ")\n",
    "\n",
    "print(f\"Item-based train MSE: {train_mse} -- Item-based test MSE: {test_mse}\")"
   ]
  },
  {
   "cell_type": "markdown",
   "metadata": {},
   "source": [
    "As we can see, this method alone can improve greatly our system's prediction power. Later in this post, we'll try leverage the effect of the number of neighbors to do a simple tunning in our system."
   ]
  },
  {
   "cell_type": "markdown",
   "metadata": {},
   "source": [
    "## Bias subtraction\n",
    "\n",
    "Now we'll try to deal with the rating bias associated with an user or an item. The ideia here is that certain users may tend to always give high or low ratings to all movies, so the *relative difference* in ratings may be more important than the *absolute rating* values.\n",
    "\n",
    "For a user-based approach this methodology can be mathematically described as:\n",
    "\n",
    "$$\n",
    "r_{ui} = \\overline{r}_{u} + \\frac{\\sum_{u'} sim(u, u')(r_{u'i} - \\overline{r}_{u'})}{\\sum_{u'} |sum(u, u')|}\n",
    "$$\n",
    "\n",
    "where $\\overline{r}_{u}$ is the average rating given by user *u*, or for a item-based approach as:\n",
    "\n",
    "$$\n",
    "r_{ui} = \\overline{r}_{i} + \\frac{\\sum_{i'} sim(i, i')(r_{ui'} - \\overline{r}_{i'})}{\\sum_{i'} |sum(i, i')|}\n",
    "$$\n",
    "\n",
    "where $\\overline{r}_{i}$ is the average rating of item *i*\n",
    "\n",
    "Lets modify our *Recommender* class once more to include this feature."
   ]
  },
  {
   "cell_type": "code",
   "execution_count": 16,
   "metadata": {},
   "outputs": [],
   "source": [
    "class Recommender:\n",
    "    def __init__(\n",
    "        self,\n",
    "        n_users,\n",
    "        n_items,\n",
    "        r_mat,\n",
    "        k=40,\n",
    "        kind=\"user\",\n",
    "        bias_sub=False,\n",
    "        eps=1e-9\n",
    "    ):\n",
    "        self.n_users = n_users\n",
    "        self.n_items = n_items\n",
    "        self.kind = kind\n",
    "        self.iter_m = build_interactions_matrix(r_mat, self.n_users, self.n_items)\n",
    "        self.sim_m = build_similarity_matrix(self.iter_m, kind=self.kind)\n",
    "        self.bias_sub = bias_sub\n",
    "        self.k = k\n",
    "        self.eps = eps\n",
    "        self.predictions = self._predict_all()\n",
    "    \n",
    "    def _predict_all(self):\n",
    "        pred = np.empty_like(self.iter_m)\n",
    "        if self.kind == \"user\":\n",
    "            # Computes the new interaction matrix if needed.\n",
    "            iter_m = self.iter_m\n",
    "            if self.bias_sub:\n",
    "                user_bias = self.iter_m.mean(axis=1)[:, np.newaxis]\n",
    "                iter_m -= user_bias\n",
    "            # An user has the higher similarity score with itself,\n",
    "            # so we skip the first element.\n",
    "            sorted_ids = np.argsort(-self.sim_m)[:, 1:self.k+1]\n",
    "            for user_id, k_users in enumerate(sorted_ids):\n",
    "                pred[user_id, :] = self.sim_m[user_id, k_users].dot(iter_m[k_users, :])\n",
    "                pred[user_id, :] /= \\\n",
    "                    np.abs(self.sim_m[user_id, k_users] + self.eps).sum() + self.eps\n",
    "            if self.bias_sub:\n",
    "                pred += user_bias\n",
    "            \n",
    "        elif self.kind == \"item\":\n",
    "            # Computes the new interaction matrix if needed.\n",
    "            iter_m = self.iter_m\n",
    "            if self.bias_sub:\n",
    "                item_bias = self.iter_m.mean(axis=0)[np.newaxis, :]\n",
    "                iter_m -= item_bias\n",
    "            # An item has the higher similarity score with itself,\n",
    "            # so we skip the first element.\n",
    "            sorted_ids = np.argsort(-self.sim_m)[:, 1:self.k+1]\n",
    "            for item_id, k_items in enumerate(sorted_ids):\n",
    "                pred[:, item_id] = self.sim_m[item_id, k_items].dot(iter_m[:, k_items].T)\n",
    "                pred[:, item_id] /= \\\n",
    "                    np.abs(self.sim_m[item_id, k_items] + self.eps).sum() + self.eps\n",
    "            if self.bias_sub:\n",
    "                pred += item_bias\n",
    "                \n",
    "        return pred.clip(0, 5)"
   ]
  },
  {
   "cell_type": "code",
   "execution_count": 17,
   "metadata": {},
   "outputs": [
    {
     "name": "stdout",
     "output_type": "stream",
     "text": [
      "User-based train MSE: 5.685449266835428 -- User-based test MSE: 6.394565262018779\n",
      "-------------------------------------------------------------------------------------------------\n",
      "Item-based train MSE: 5.4271747547608555 -- Item-based test MSE: 6.214109193478461\n"
     ]
    }
   ],
   "source": [
    "train_mse, test_mse = get_mse(\n",
    "    Recommender(n_users, n_movies, train_set, kind=\"user\", bias_sub=True),\n",
    "    train_set,\n",
    "    test_set\n",
    ")\n",
    "\n",
    "print(f\"User-based train MSE: {train_mse} -- User-based test MSE: {test_mse}\")\n",
    "print(\"-\" * 97)\n",
    "\n",
    "train_mse, test_mse = get_mse(\n",
    "    Recommender(n_users, n_movies, train_set, kind=\"item\", bias_sub=True),\n",
    "    train_set,\n",
    "    test_set\n",
    ")\n",
    "\n",
    "print(f\"Item-based train MSE: {train_mse} -- Item-based test MSE: {test_mse}\")"
   ]
  },
  {
   "cell_type": "markdown",
   "metadata": {},
   "source": [
    "Although this methodology did not improved the results for this scenario, possibly due to the characteristics of the dataset, it can be effective with another dataset."
   ]
  },
  {
   "cell_type": "markdown",
   "metadata": {},
   "source": [
    "# Tuning up\n",
    "\n",
    "There is one question left: how do we find the right number of similar users/items we should use when predicting a rating?\n",
    "\n",
    "The author of the [blog post](https://www.ethanrosenthal.com/2015/11/02/intro-to-collaborative-filtering/) that we this post was based used the so-called [Elbow Method](https://en.wikipedia.org/wiki/Elbow_method_(clustering)) to find the value of *k*. Although this is a fine methodology, I'm personally more inclined to use more programatic ways to achieve those kind of goals.\n",
    "\n",
    "If you thought of model hyperparameters search methods, like grid-search or random-search, then we are in the same line of thinking.\n",
    "\n",
    "*Scikit-learn* package already has some standart implementations of these methods based on *cross-validation scores*, but these are quite limited to a random search (using RandomSearchCV) or a full greedy search (using GridSearchCV). Although we could certainly implement our own parameters search routines, here I optioned to use the [*Optuna*](https://optuna.org/) package. It has a simple and powerful interface is a *must-use* tool for any *Machine Learning* practitioneer.\n",
    "\n",
    "We begin by define a *objective* function to be minimized. This function will be responsible for choosing the parameters to be used, instantiating the model with these parameters and evaluating the model's performance. Our use case is quite simple, as we have only two parameters (*k* and *bias_sub*)."
   ]
  },
  {
   "cell_type": "code",
   "execution_count": 18,
   "metadata": {},
   "outputs": [],
   "source": [
    "def objective(trial):\n",
    "    # The list of hyper-parameters we want to optmizer. For each one we define the bounds\n",
    "    # and the corresponding name.\n",
    "    k = trial.suggest_int(\"k\", 10, 200)\n",
    "    bias_sub = trial.suggest_categorical(\"bias_sub\", [False, True])\n",
    "\n",
    "    # Instantiating the model\n",
    "    model = Recommender(n_users, n_movies, train_set, kind=\"item\", k=k, bias_sub=bias_sub)\n",
    "    # Evaluating the performance\n",
    "    _, test_mse = get_mse(model, train_set, test_set)\n",
    "    return test_mse"
   ]
  },
  {
   "cell_type": "markdown",
   "metadata": {},
   "source": [
    "Next, we defini our **study** object, that will be responsible for the hyperparameter search itself, as well as keep track of the optimization's history."
   ]
  },
  {
   "cell_type": "code",
   "execution_count": 19,
   "metadata": {},
   "outputs": [
    {
     "name": "stderr",
     "output_type": "stream",
     "text": [
      "[I 2024-04-04 17:00:46,148] A new study created in memory with name: no-name-153c9c43-c251-4b5d-a812-39584b03d959\n",
      "[I 2024-04-04 17:00:47,260] Trial 0 finished with value: 6.473762308412302 and parameters: {'k': 76, 'bias_sub': True}. Best is trial 0 with value: 6.473762308412302.\n",
      "[I 2024-04-04 17:00:48,829] Trial 1 finished with value: 6.7379084182179865 and parameters: {'k': 121, 'bias_sub': True}. Best is trial 0 with value: 6.473762308412302.\n",
      "[I 2024-04-04 17:00:50,398] Trial 2 finished with value: 6.733040590487261 and parameters: {'k': 120, 'bias_sub': True}. Best is trial 0 with value: 6.473762308412302.\n",
      "[I 2024-04-04 17:00:52,595] Trial 3 finished with value: 6.9488357739069295 and parameters: {'k': 180, 'bias_sub': False}. Best is trial 0 with value: 6.473762308412302.\n",
      "[I 2024-04-04 17:00:54,864] Trial 4 finished with value: 6.9976594553898295 and parameters: {'k': 187, 'bias_sub': False}. Best is trial 0 with value: 6.473762308412302.\n",
      "[I 2024-04-04 17:00:55,852] Trial 5 finished with value: 6.3863913030458335 and parameters: {'k': 63, 'bias_sub': True}. Best is trial 5 with value: 6.3863913030458335.\n",
      "[I 2024-04-04 17:00:56,868] Trial 6 finished with value: 5.993720812245225 and parameters: {'k': 66, 'bias_sub': False}. Best is trial 6 with value: 5.993720812245225.\n",
      "[I 2024-04-04 17:00:58,154] Trial 7 finished with value: 6.580075306033448 and parameters: {'k': 93, 'bias_sub': True}. Best is trial 6 with value: 5.993720812245225.\n",
      "[I 2024-04-04 17:01:00,191] Trial 8 finished with value: 6.943021554867475 and parameters: {'k': 165, 'bias_sub': True}. Best is trial 6 with value: 5.993720812245225.\n",
      "[I 2024-04-04 17:01:01,415] Trial 9 finished with value: 6.543147647388037 and parameters: {'k': 87, 'bias_sub': True}. Best is trial 6 with value: 5.993720812245225.\n",
      "[I 2024-04-04 17:01:01,985] Trial 10 finished with value: 5.422950772402835 and parameters: {'k': 18, 'bias_sub': False}. Best is trial 10 with value: 5.422950772402835.\n",
      "[I 2024-04-04 17:01:02,482] Trial 11 finished with value: 5.342331173458453 and parameters: {'k': 10, 'bias_sub': False}. Best is trial 11 with value: 5.342331173458453.\n",
      "[I 2024-04-04 17:01:02,979] Trial 12 finished with value: 5.342331173458453 and parameters: {'k': 10, 'bias_sub': False}. Best is trial 11 with value: 5.342331173458453.\n",
      "[I 2024-04-04 17:01:03,538] Trial 13 finished with value: 5.399538980461102 and parameters: {'k': 17, 'bias_sub': False}. Best is trial 11 with value: 5.342331173458453.\n",
      "[I 2024-04-04 17:01:04,283] Trial 14 finished with value: 5.684727596993318 and parameters: {'k': 38, 'bias_sub': False}. Best is trial 11 with value: 5.342331173458453.\n",
      "[I 2024-04-04 17:01:05,109] Trial 15 finished with value: 5.735672275082821 and parameters: {'k': 42, 'bias_sub': False}. Best is trial 11 with value: 5.342331173458453.\n",
      "[I 2024-04-04 17:01:05,618] Trial 16 finished with value: 5.344586591090668 and parameters: {'k': 11, 'bias_sub': False}. Best is trial 11 with value: 5.342331173458453.\n",
      "[I 2024-04-04 17:01:06,411] Trial 17 finished with value: 5.745994973020386 and parameters: {'k': 43, 'bias_sub': False}. Best is trial 11 with value: 5.342331173458453.\n",
      "[I 2024-04-04 17:01:08,138] Trial 18 finished with value: 6.616389712586264 and parameters: {'k': 135, 'bias_sub': False}. Best is trial 11 with value: 5.342331173458453.\n",
      "[I 2024-04-04 17:01:08,855] Trial 19 finished with value: 5.649025695836072 and parameters: {'k': 35, 'bias_sub': False}. Best is trial 11 with value: 5.342331173458453.\n",
      "[I 2024-04-04 17:01:09,760] Trial 20 finished with value: 5.876435102661271 and parameters: {'k': 55, 'bias_sub': False}. Best is trial 11 with value: 5.342331173458453.\n",
      "[I 2024-04-04 17:01:10,321] Trial 21 finished with value: 5.399538980461102 and parameters: {'k': 17, 'bias_sub': False}. Best is trial 11 with value: 5.342331173458453.\n",
      "[I 2024-04-04 17:01:10,838] Trial 22 finished with value: 5.341853273407236 and parameters: {'k': 12, 'bias_sub': False}. Best is trial 22 with value: 5.341853273407236.\n",
      "[I 2024-04-04 17:01:11,494] Trial 23 finished with value: 5.558403089977984 and parameters: {'k': 28, 'bias_sub': False}. Best is trial 22 with value: 5.341853273407236.\n",
      "[I 2024-04-04 17:01:12,347] Trial 24 finished with value: 5.8277568958770845 and parameters: {'k': 50, 'bias_sub': False}. Best is trial 22 with value: 5.341853273407236.\n",
      "[I 2024-04-04 17:01:12,845] Trial 25 finished with value: 5.342331173458453 and parameters: {'k': 10, 'bias_sub': False}. Best is trial 22 with value: 5.341853273407236.\n",
      "[I 2024-04-04 17:01:13,502] Trial 26 finished with value: 5.558403089977984 and parameters: {'k': 28, 'bias_sub': False}. Best is trial 22 with value: 5.341853273407236.\n",
      "[I 2024-04-04 17:01:14,142] Trial 27 finished with value: 5.533477656928119 and parameters: {'k': 26, 'bias_sub': False}. Best is trial 22 with value: 5.341853273407236.\n",
      "[I 2024-04-04 17:01:15,067] Trial 28 finished with value: 5.89947844501077 and parameters: {'k': 57, 'bias_sub': False}. Best is trial 22 with value: 5.341853273407236.\n",
      "[I 2024-04-04 17:01:16,121] Trial 29 finished with value: 6.025426844578749 and parameters: {'k': 69, 'bias_sub': False}. Best is trial 22 with value: 5.341853273407236.\n",
      "[I 2024-04-04 17:01:18,024] Trial 30 finished with value: 6.7496053394490545 and parameters: {'k': 152, 'bias_sub': False}. Best is trial 22 with value: 5.341853273407236.\n",
      "[I 2024-04-04 17:01:18,543] Trial 31 finished with value: 5.341853273407236 and parameters: {'k': 12, 'bias_sub': False}. Best is trial 22 with value: 5.341853273407236.\n",
      "[I 2024-04-04 17:01:19,207] Trial 32 finished with value: 5.570183414279416 and parameters: {'k': 29, 'bias_sub': False}. Best is trial 22 with value: 5.341853273407236.\n",
      "[I 2024-04-04 17:01:19,704] Trial 33 finished with value: 5.342331173458453 and parameters: {'k': 10, 'bias_sub': False}. Best is trial 22 with value: 5.341853273407236.\n",
      "[I 2024-04-04 17:01:21,162] Trial 34 finished with value: 6.672897632354633 and parameters: {'k': 109, 'bias_sub': True}. Best is trial 22 with value: 5.341853273407236.\n",
      "[I 2024-04-04 17:01:22,320] Trial 35 finished with value: 6.137544584322953 and parameters: {'k': 81, 'bias_sub': False}. Best is trial 22 with value: 5.341853273407236.\n",
      "[I 2024-04-04 17:01:23,142] Trial 36 finished with value: 5.780889568046984 and parameters: {'k': 46, 'bias_sub': False}. Best is trial 22 with value: 5.341853273407236.\n",
      "[I 2024-04-04 17:01:23,757] Trial 37 finished with value: 6.049608119629455 and parameters: {'k': 23, 'bias_sub': True}. Best is trial 22 with value: 5.341853273407236.\n",
      "[I 2024-04-04 17:01:24,495] Trial 38 finished with value: 5.672155194146348 and parameters: {'k': 37, 'bias_sub': False}. Best is trial 22 with value: 5.341853273407236.\n",
      "[I 2024-04-04 17:01:25,092] Trial 39 finished with value: 6.028966460803951 and parameters: {'k': 21, 'bias_sub': True}. Best is trial 22 with value: 5.341853273407236.\n",
      "[I 2024-04-04 17:01:26,146] Trial 40 finished with value: 6.025426844578749 and parameters: {'k': 69, 'bias_sub': False}. Best is trial 22 with value: 5.341853273407236.\n",
      "[I 2024-04-04 17:01:26,651] Trial 41 finished with value: 5.344586591090668 and parameters: {'k': 11, 'bias_sub': False}. Best is trial 22 with value: 5.341853273407236.\n",
      "[I 2024-04-04 17:01:27,159] Trial 42 finished with value: 5.344586591090668 and parameters: {'k': 11, 'bias_sub': False}. Best is trial 22 with value: 5.341853273407236.\n",
      "[I 2024-04-04 17:01:27,822] Trial 43 finished with value: 5.570183414279416 and parameters: {'k': 29, 'bias_sub': False}. Best is trial 22 with value: 5.341853273407236.\n",
      "[I 2024-04-04 17:01:30,185] Trial 44 finished with value: 7.057302650194999 and parameters: {'k': 196, 'bias_sub': False}. Best is trial 22 with value: 5.341853273407236.\n",
      "[I 2024-04-04 17:01:30,898] Trial 45 finished with value: 5.63377066886556 and parameters: {'k': 34, 'bias_sub': False}. Best is trial 22 with value: 5.341853273407236.\n",
      "[I 2024-04-04 17:01:31,487] Trial 46 finished with value: 6.017699491576731 and parameters: {'k': 20, 'bias_sub': True}. Best is trial 22 with value: 5.341853273407236.\n",
      "[I 2024-04-04 17:01:32,790] Trial 47 finished with value: 6.271299377619003 and parameters: {'k': 95, 'bias_sub': False}. Best is trial 22 with value: 5.341853273407236.\n",
      "[I 2024-04-04 17:01:33,351] Trial 48 finished with value: 5.399538980461102 and parameters: {'k': 17, 'bias_sub': False}. Best is trial 22 with value: 5.341853273407236.\n",
      "[I 2024-04-04 17:01:34,220] Trial 49 finished with value: 5.836941901186445 and parameters: {'k': 51, 'bias_sub': False}. Best is trial 22 with value: 5.341853273407236.\n",
      "[I 2024-04-04 17:01:35,893] Trial 50 finished with value: 6.5774087114838675 and parameters: {'k': 130, 'bias_sub': False}. Best is trial 22 with value: 5.341853273407236.\n",
      "[I 2024-04-04 17:01:36,408] Trial 51 finished with value: 5.341853273407236 and parameters: {'k': 12, 'bias_sub': False}. Best is trial 22 with value: 5.341853273407236.\n",
      "[I 2024-04-04 17:01:36,904] Trial 52 finished with value: 5.342331173458453 and parameters: {'k': 10, 'bias_sub': False}. Best is trial 22 with value: 5.341853273407236.\n",
      "[I 2024-04-04 17:01:37,489] Trial 53 finished with value: 5.445817076679518 and parameters: {'k': 20, 'bias_sub': False}. Best is trial 22 with value: 5.341853273407236.\n",
      "[I 2024-04-04 17:01:38,226] Trial 54 finished with value: 5.672155194146348 and parameters: {'k': 37, 'bias_sub': False}. Best is trial 22 with value: 5.341853273407236.\n",
      "[I 2024-04-04 17:01:38,787] Trial 55 finished with value: 5.399538980461102 and parameters: {'k': 17, 'bias_sub': False}. Best is trial 22 with value: 5.341853273407236.\n",
      "[I 2024-04-04 17:01:39,479] Trial 56 finished with value: 6.138302946417691 and parameters: {'k': 32, 'bias_sub': True}. Best is trial 22 with value: 5.341853273407236.\n",
      "[I 2024-04-04 17:01:40,274] Trial 57 finished with value: 5.735672275082821 and parameters: {'k': 42, 'bias_sub': False}. Best is trial 22 with value: 5.341853273407236.\n",
      "[I 2024-04-04 17:01:40,898] Trial 58 finished with value: 5.472537049823912 and parameters: {'k': 22, 'bias_sub': False}. Best is trial 22 with value: 5.341853273407236.\n",
      "[I 2024-04-04 17:01:41,442] Trial 59 finished with value: 5.372857358818758 and parameters: {'k': 15, 'bias_sub': False}. Best is trial 22 with value: 5.341853273407236.\n",
      "[I 2024-04-04 17:01:43,529] Trial 60 finished with value: 6.880023613697107 and parameters: {'k': 170, 'bias_sub': False}. Best is trial 22 with value: 5.341853273407236.\n",
      "[I 2024-04-04 17:01:44,058] Trial 61 finished with value: 5.348596930240617 and parameters: {'k': 13, 'bias_sub': False}. Best is trial 22 with value: 5.341853273407236.\n",
      "[I 2024-04-04 17:01:44,557] Trial 62 finished with value: 5.342331173458453 and parameters: {'k': 10, 'bias_sub': False}. Best is trial 22 with value: 5.341853273407236.\n",
      "[I 2024-04-04 17:01:45,186] Trial 63 finished with value: 5.5203668606152965 and parameters: {'k': 25, 'bias_sub': False}. Best is trial 22 with value: 5.341853273407236.\n",
      "[I 2024-04-04 17:01:45,833] Trial 64 finished with value: 5.533477656928119 and parameters: {'k': 26, 'bias_sub': False}. Best is trial 22 with value: 5.341853273407236.\n",
      "[I 2024-04-04 17:01:46,427] Trial 65 finished with value: 5.399538980461102 and parameters: {'k': 17, 'bias_sub': False}. Best is trial 22 with value: 5.341853273407236.\n",
      "[I 2024-04-04 17:01:47,130] Trial 66 finished with value: 5.621767764696275 and parameters: {'k': 33, 'bias_sub': False}. Best is trial 22 with value: 5.341853273407236.\n",
      "[I 2024-04-04 17:01:48,095] Trial 67 finished with value: 5.939915643221463 and parameters: {'k': 61, 'bias_sub': False}. Best is trial 22 with value: 5.341853273407236.\n",
      "[I 2024-04-04 17:01:48,869] Trial 68 finished with value: 5.72345516185488 and parameters: {'k': 41, 'bias_sub': False}. Best is trial 22 with value: 5.341853273407236.\n",
      "[I 2024-04-04 17:01:49,500] Trial 69 finished with value: 6.062208835174823 and parameters: {'k': 24, 'bias_sub': True}. Best is trial 22 with value: 5.341853273407236.\n",
      "[I 2024-04-04 17:01:50,037] Trial 70 finished with value: 5.3562674073328465 and parameters: {'k': 14, 'bias_sub': False}. Best is trial 22 with value: 5.341853273407236.\n",
      "[I 2024-04-04 17:01:50,548] Trial 71 finished with value: 5.344586591090668 and parameters: {'k': 11, 'bias_sub': False}. Best is trial 22 with value: 5.341853273407236.\n",
      "[I 2024-04-04 17:01:51,067] Trial 72 finished with value: 5.344586591090668 and parameters: {'k': 11, 'bias_sub': False}. Best is trial 22 with value: 5.341853273407236.\n",
      "[I 2024-04-04 17:01:51,663] Trial 73 finished with value: 5.459341445506474 and parameters: {'k': 21, 'bias_sub': False}. Best is trial 22 with value: 5.341853273407236.\n",
      "[I 2024-04-04 17:01:52,332] Trial 74 finished with value: 5.570183414279416 and parameters: {'k': 29, 'bias_sub': False}. Best is trial 22 with value: 5.341853273407236.\n",
      "[I 2024-04-04 17:01:52,832] Trial 75 finished with value: 5.342331173458453 and parameters: {'k': 10, 'bias_sub': False}. Best is trial 22 with value: 5.341853273407236.\n",
      "[I 2024-04-04 17:01:53,388] Trial 76 finished with value: 5.382949280903645 and parameters: {'k': 16, 'bias_sub': False}. Best is trial 22 with value: 5.341853273407236.\n",
      "[I 2024-04-04 17:01:54,233] Trial 77 finished with value: 5.8039113858526346 and parameters: {'k': 48, 'bias_sub': False}. Best is trial 22 with value: 5.341853273407236.\n",
      "[I 2024-04-04 17:01:54,920] Trial 78 finished with value: 5.601433016472603 and parameters: {'k': 31, 'bias_sub': False}. Best is trial 22 with value: 5.341853273407236.\n",
      "[I 2024-04-04 17:01:55,540] Trial 79 finished with value: 5.4881839267490395 and parameters: {'k': 23, 'bias_sub': False}. Best is trial 22 with value: 5.341853273407236.\n",
      "[I 2024-04-04 17:01:56,115] Trial 80 finished with value: 5.996594831224809 and parameters: {'k': 18, 'bias_sub': True}. Best is trial 22 with value: 5.341853273407236.\n",
      "[I 2024-04-04 17:01:56,616] Trial 81 finished with value: 5.342331173458453 and parameters: {'k': 10, 'bias_sub': False}. Best is trial 22 with value: 5.341853273407236.\n",
      "[I 2024-04-04 17:01:57,164] Trial 82 finished with value: 5.372857358818758 and parameters: {'k': 15, 'bias_sub': False}. Best is trial 22 with value: 5.341853273407236.\n",
      "[I 2024-04-04 17:01:57,664] Trial 83 finished with value: 5.342331173458453 and parameters: {'k': 10, 'bias_sub': False}. Best is trial 22 with value: 5.341853273407236.\n",
      "[I 2024-04-04 17:01:58,299] Trial 84 finished with value: 5.5203668606152965 and parameters: {'k': 25, 'bias_sub': False}. Best is trial 22 with value: 5.341853273407236.\n",
      "[I 2024-04-04 17:01:58,886] Trial 85 finished with value: 5.445817076679518 and parameters: {'k': 20, 'bias_sub': False}. Best is trial 22 with value: 5.341853273407236.\n",
      "[I 2024-04-04 17:01:59,619] Trial 86 finished with value: 5.66115922630519 and parameters: {'k': 36, 'bias_sub': False}. Best is trial 22 with value: 5.341853273407236.\n",
      "[I 2024-04-04 17:02:00,294] Trial 87 finished with value: 5.570183414279416 and parameters: {'k': 29, 'bias_sub': False}. Best is trial 22 with value: 5.341853273407236.\n",
      "[I 2024-04-04 17:02:01,736] Trial 88 finished with value: 6.370067987227846 and parameters: {'k': 106, 'bias_sub': False}. Best is trial 22 with value: 5.341853273407236.\n",
      "[I 2024-04-04 17:02:02,283] Trial 89 finished with value: 5.372857358818758 and parameters: {'k': 15, 'bias_sub': False}. Best is trial 22 with value: 5.341853273407236.\n",
      "[I 2024-04-04 17:02:02,880] Trial 90 finished with value: 5.459341445506474 and parameters: {'k': 21, 'bias_sub': False}. Best is trial 22 with value: 5.341853273407236.\n",
      "[I 2024-04-04 17:02:03,381] Trial 91 finished with value: 5.342331173458453 and parameters: {'k': 10, 'bias_sub': False}. Best is trial 22 with value: 5.341853273407236.\n",
      "[I 2024-04-04 17:02:05,257] Trial 92 finished with value: 6.73456106977193 and parameters: {'k': 150, 'bias_sub': False}. Best is trial 22 with value: 5.341853273407236.\n",
      "[I 2024-04-04 17:02:05,808] Trial 93 finished with value: 5.3562674073328465 and parameters: {'k': 14, 'bias_sub': False}. Best is trial 22 with value: 5.341853273407236.\n",
      "[I 2024-04-04 17:02:06,310] Trial 94 finished with value: 5.342331173458453 and parameters: {'k': 10, 'bias_sub': False}. Best is trial 22 with value: 5.341853273407236.\n",
      "[I 2024-04-04 17:02:06,890] Trial 95 finished with value: 5.434930583981397 and parameters: {'k': 19, 'bias_sub': False}. Best is trial 22 with value: 5.341853273407236.\n",
      "[I 2024-04-04 17:02:07,543] Trial 96 finished with value: 5.541716977681339 and parameters: {'k': 27, 'bias_sub': False}. Best is trial 22 with value: 5.341853273407236.\n",
      "[I 2024-04-04 17:02:08,101] Trial 97 finished with value: 5.970840301149119 and parameters: {'k': 16, 'bias_sub': True}. Best is trial 22 with value: 5.341853273407236.\n",
      "[I 2024-04-04 17:02:08,724] Trial 98 finished with value: 5.503976797247932 and parameters: {'k': 24, 'bias_sub': False}. Best is trial 22 with value: 5.341853273407236.\n",
      "[I 2024-04-04 17:02:09,425] Trial 99 finished with value: 5.621767764696275 and parameters: {'k': 33, 'bias_sub': False}. Best is trial 22 with value: 5.341853273407236.\n"
     ]
    }
   ],
   "source": [
    "study = optuna.create_study(direction=\"minimize\")\n",
    "# Here the parameter search effectively begins.\n",
    "study.optimize(objective, n_trials=100)"
   ]
  },
  {
   "cell_type": "markdown",
   "metadata": {},
   "source": [
    "Now we can retrieve the best parameters found."
   ]
  },
  {
   "cell_type": "code",
   "execution_count": 20,
   "metadata": {},
   "outputs": [
    {
     "name": "stdout",
     "output_type": "stream",
     "text": [
      "Best parameters found:\n",
      "  - k = 12\n",
      "  - bias_sub = False\n"
     ]
    }
   ],
   "source": [
    "best_k = study.best_params[\"k\"]\n",
    "best_bias_sub = study.best_params[\"bias_sub\"]\n",
    "\n",
    "print(\"Best parameters found:\")\n",
    "print(f\"  - k = {best_k}\")\n",
    "print(f\"  - bias_sub = {best_bias_sub}\")"
   ]
  },
  {
   "cell_type": "markdown",
   "metadata": {},
   "source": [
    "We can even plot a *convergence plot*."
   ]
  },
  {
   "cell_type": "code",
   "execution_count": 21,
   "metadata": {},
   "outputs": [
    {
     "name": "stderr",
     "output_type": "stream",
     "text": [
      "/tmp/ipykernel_13434/616175072.py:1: ExperimentalWarning: plot_optimization_history is experimental (supported from v2.2.0). The interface can change in the future.\n",
      "  optuna.visualization.matplotlib.plot_optimization_history(study);\n"
     ]
    },
    {
     "data": {
      "image/png": "[encoded data removed]",
      "text/plain": [
       "<Figure size 640x480 with 1 Axes>"
      ]
     },
     "metadata": {},
     "output_type": "display_data"
    }
   ],
   "source": [
    "optuna.visualization.matplotlib.plot_optimization_history(study);"
   ]
  },
  {
   "cell_type": "markdown",
   "metadata": {},
   "source": [
    "# Item recommendation\n",
    "\n",
    "Now that we have defined our parameters, we can make our system do what it is suposed to: recommend items. There are many ways to acomplish this, but I optioned to go for the simple way and just recommend items most similar to a item using a *item-based* system.\n",
    "\n",
    "Let's make the last modification to our *Recommender* class."
   ]
  },
  {
   "cell_type": "code",
   "execution_count": 22,
   "metadata": {},
   "outputs": [],
   "source": [
    "class Recommender:\n",
    "    def __init__(\n",
    "        self,\n",
    "        n_users,\n",
    "        n_items,\n",
    "        r_mat,\n",
    "        k=40,\n",
    "        kind=\"user\",\n",
    "        bias_sub=False,\n",
    "        eps=1e-9\n",
    "    ):\n",
    "        self.n_users = n_users\n",
    "        self.n_items = n_items\n",
    "        self.kind = kind\n",
    "        self.iter_m = build_interactions_matrix(r_mat, self.n_users, self.n_items)\n",
    "        self.sim_m = build_similarity_matrix(self.iter_m, kind=self.kind)\n",
    "        self.bias_sub = bias_sub\n",
    "        self.k = k\n",
    "        self.eps = eps\n",
    "        self.predictions = self._predict_all()\n",
    "    \n",
    "    def _predict_all(self):\n",
    "        pred = np.empty_like(self.iter_m)\n",
    "        if self.kind == \"user\":\n",
    "            # Computes the new interaction matrix if needed.\n",
    "            iter_m = self.iter_m\n",
    "            if self.bias_sub:\n",
    "                user_bias = self.iter_m.mean(axis=1)[:, np.newaxis]\n",
    "                iter_m -= user_bias\n",
    "            # An user has the higher similarity score with itself,\n",
    "            # so we skip the first element.\n",
    "            sorted_ids = np.argsort(-self.sim_m)[:, 1:self.k+1]\n",
    "            for user_id, k_users in enumerate(sorted_ids):\n",
    "                pred[user_id, :] = self.sim_m[user_id, k_users].dot(iter_m[k_users, :])\n",
    "                pred[user_id, :] /= np.abs(self.sim_m[user_id, k_users]).sum() + self.eps\n",
    "            if self.bias_sub:\n",
    "                pred += user_bias\n",
    "            \n",
    "        elif self.kind == \"item\":\n",
    "            # Computes the new interaction matrix if needed.\n",
    "            iter_m = self.iter_m\n",
    "            if self.bias_sub:\n",
    "                item_bias = self.iter_m.mean(axis=0)[np.newaxis, :]\n",
    "                iter_m -= item_bias\n",
    "            # An item has the higher similarity score with itself,\n",
    "            # so we skip the first element.\n",
    "            sorted_ids = np.argsort(-self.sim_m)[:, 1:self.k+1]\n",
    "            for item_id, k_items in enumerate(sorted_ids):\n",
    "                pred[:, item_id] = self.sim_m[item_id, k_items].dot(iter_m[:, k_items].T)\n",
    "                pred[:, item_id] /= np.abs(self.sim_m[item_id, k_items]).sum() + self.eps\n",
    "            if self.bias_sub:\n",
    "                pred += item_bias\n",
    "                \n",
    "        return pred.clip(0, 5)\n",
    "    \n",
    "    def get_top_recomendations(self, item_id, n=6):\n",
    "        if self.kind == \"user\":\n",
    "            # For an user-based system, only similarities between users were computed.\n",
    "            # This strategy will not be covered in this post, but a solution to this\n",
    "            # could be of finding the top better rated items of similiar users.\n",
    "            # I'll leave this exercise to you =]\n",
    "            pass\n",
    "        if self.kind == \"item\":\n",
    "            sim_row = self.sim_m[item_id - 1, :]\n",
    "            # once again, we skip the first item for obviouos reasons.\n",
    "            items_idxs = np.argsort(-sim_row)[1:n+1]\n",
    "            similarities = sim_row[items_idxs]\n",
    "            return items_idxs + 1, similarities"
   ]
  },
  {
   "cell_type": "markdown",
   "metadata": {},
   "source": [
    "We added a method to return the $n$ most similar items to a given item. Now, we just need to buil our model with the parameters found previously."
   ]
  },
  {
   "cell_type": "code",
   "execution_count": 23,
   "metadata": {},
   "outputs": [
    {
     "data": {
      "text/plain": [
       "(3.2755618709089025, 3.2546408150520767)"
      ]
     },
     "execution_count": 23,
     "metadata": {},
     "output_type": "execute_result"
    }
   ],
   "source": [
    "rs_model = Recommender(\n",
    "    n_users, \n",
    "    n_movies, \n",
    "    ratings, # the model will be built on the full dataset now\n",
    "    k=best_k, \n",
    "    kind=\"item\", \n",
    "    bias_sub=best_bias_sub\n",
    ")\n",
    "get_mse(rs_model, train_set, test_set)"
   ]
  },
  {
   "cell_type": "markdown",
   "metadata": {},
   "source": [
    "We'll also define two functions: one that maps a movie title to an id and other that maps a list of movie ids into a list of movie titles."
   ]
  },
  {
   "cell_type": "code",
   "execution_count": 24,
   "metadata": {},
   "outputs": [],
   "source": [
    "def title2id(mapper_df, movie_title):\n",
    "    return mapper_df.loc[mapper_df.movie_title == movie_title, \"movie_title\"].index.values[0]\n",
    "\n",
    "def ids2title(mapper_df, ids_list):\n",
    "    titles = []\n",
    "    for id in ids_list:\n",
    "        titles.append(mapper_df.loc[id, \"movie_title\"])\n",
    "    return titles"
   ]
  },
  {
   "cell_type": "markdown",
   "metadata": {},
   "source": [
    "Those functions need a dataframe with the movies ids and titles, that will act as a mapper. So we'll load the **u.item** file from the dataset folder."
   ]
  },
  {
   "cell_type": "code",
   "execution_count": 25,
   "metadata": {},
   "outputs": [
    {
     "data": {
      "text/html": [
       "<div>\n",
       "<style scoped>\n",
       "    .dataframe tbody tr th:only-of-type {\n",
       "        vertical-align: middle;\n",
       "    }\n",
       "\n",
       "    .dataframe tbody tr th {\n",
       "        vertical-align: top;\n",
       "    }\n",
       "\n",
       "    .dataframe thead th {\n",
       "        text-align: right;\n",
       "    }\n",
       "</style>\n",
       "<table border=\"1\" class=\"dataframe\">\n",
       "  <thead>\n",
       "    <tr style=\"text-align: right;\">\n",
       "      <th></th>\n",
       "      <th>movie_title</th>\n",
       "    </tr>\n",
       "    <tr>\n",
       "      <th>movie_id</th>\n",
       "      <th></th>\n",
       "    </tr>\n",
       "  </thead>\n",
       "  <tbody>\n",
       "    <tr>\n",
       "      <th>1</th>\n",
       "      <td>Toy Story</td>\n",
       "    </tr>\n",
       "    <tr>\n",
       "      <th>2</th>\n",
       "      <td>GoldenEye</td>\n",
       "    </tr>\n",
       "    <tr>\n",
       "      <th>3</th>\n",
       "      <td>Four Rooms</td>\n",
       "    </tr>\n",
       "    <tr>\n",
       "      <th>4</th>\n",
       "      <td>Get Shorty</td>\n",
       "    </tr>\n",
       "    <tr>\n",
       "      <th>5</th>\n",
       "      <td>Copycat</td>\n",
       "    </tr>\n",
       "    <tr>\n",
       "      <th>...</th>\n",
       "      <td>...</td>\n",
       "    </tr>\n",
       "    <tr>\n",
       "      <th>1678</th>\n",
       "      <td>Mat' i syn</td>\n",
       "    </tr>\n",
       "    <tr>\n",
       "      <th>1679</th>\n",
       "      <td>B. Monkey</td>\n",
       "    </tr>\n",
       "    <tr>\n",
       "      <th>1680</th>\n",
       "      <td>Sliding Doors</td>\n",
       "    </tr>\n",
       "    <tr>\n",
       "      <th>1681</th>\n",
       "      <td>You So Crazy</td>\n",
       "    </tr>\n",
       "    <tr>\n",
       "      <th>1682</th>\n",
       "      <td>Scream of Stone (Schrei aus Stein)</td>\n",
       "    </tr>\n",
       "  </tbody>\n",
       "</table>\n",
       "<p>1682 rows × 1 columns</p>\n",
       "</div>"
      ],
      "text/plain": [
       "                                 movie_title\n",
       "movie_id                                    \n",
       "1                                  Toy Story\n",
       "2                                  GoldenEye\n",
       "3                                 Four Rooms\n",
       "4                                 Get Shorty\n",
       "5                                    Copycat\n",
       "...                                      ...\n",
       "1678                              Mat' i syn\n",
       "1679                               B. Monkey\n",
       "1680                           Sliding Doors\n",
       "1681                            You So Crazy\n",
       "1682      Scream of Stone (Schrei aus Stein)\n",
       "\n",
       "[1682 rows x 1 columns]"
      ]
     },
     "execution_count": 25,
     "metadata": {},
     "output_type": "execute_result"
    }
   ],
   "source": [
    "# Columns names\n",
    "movies_mapper_cols = [\n",
    "    \"movie_id\", \n",
    "    \"movie_title\", \n",
    "    \"release_date\", \n",
    "    \"video_release_date\", \n",
    "    \"IMDb_URL\", \n",
    "    \"unknown\",\n",
    "    \"Action\",\n",
    "    \"Adventure\",\n",
    "    \"Animation\",\n",
    "    \"Childrens\",\n",
    "    \"Comedy\",\n",
    "    \"Crime\",\n",
    "    \"Documentary\",\n",
    "    \"Drama\",\n",
    "    \"Fantasy\",\n",
    "    \"Film_Noir\",\n",
    "    \"Horror\",\n",
    "    \"Musical\",\n",
    "    \"Mystery\",\n",
    "    \"Romance\",\n",
    "    \"Sci_Fi\",\n",
    "    \"Thriller\",\n",
    "    \"War\",\n",
    "    \"Western\" \n",
    "]\n",
    "movies_mapper = pd.read_csv(\n",
    "    \"ml-100k/u.item\",\n",
    "    sep=\"|\",\n",
    "    encoding=\"latin\",\n",
    "    names=movies_mapper_cols,\n",
    "    usecols=[\"movie_id\", \"movie_title\"], # we only need these columns\n",
    "    index_col=\"movie_id\"\n",
    ")\n",
    "# Remove movies release years from titles\n",
    "movies_mapper[\"movie_title\"] = movies_mapper[\"movie_title\"].apply(\n",
    "    lambda title: re.sub(\"\\(\\d{4}\\)\", \"\", title).strip()\n",
    ")\n",
    "movies_mapper"
   ]
  },
  {
   "cell_type": "markdown",
   "metadata": {},
   "source": [
    "Now we can make our recommendations."
   ]
  },
  {
   "cell_type": "code",
   "execution_count": 26,
   "metadata": {},
   "outputs": [],
   "source": [
    "def print_recommendations(model, mapper, movie_title):\n",
    "    ids_list, similarities = rs_model.get_top_recomendations(title2id(mapper, movie_title))\n",
    "    titles = ids2title(movies_mapper, ids_list)\n",
    "    for title, similarity in zip (titles, similarities):\n",
    "        print(f\"{similarity:.2f} -- {title}\")"
   ]
  },
  {
   "cell_type": "code",
   "execution_count": 27,
   "metadata": {},
   "outputs": [
    {
     "name": "stdout",
     "output_type": "stream",
     "text": [
      "0.73 -- Star Wars\n",
      "0.70 -- Return of the Jedi\n",
      "0.69 -- Independence Day (ID4)\n",
      "0.66 -- Rock, The\n",
      "0.64 -- Mission: Impossible\n",
      "0.64 -- Willy Wonka and the Chocolate Factory\n"
     ]
    }
   ],
   "source": [
    "print_recommendations(rs_model, movies_mapper, \"Toy Story\")"
   ]
  },
  {
   "cell_type": "code",
   "execution_count": 28,
   "metadata": {},
   "outputs": [
    {
     "name": "stdout",
     "output_type": "stream",
     "text": [
      "0.71 -- Batman\n",
      "0.64 -- Batman Forever\n",
      "0.62 -- Stargate\n",
      "0.62 -- Die Hard: With a Vengeance\n",
      "0.61 -- True Lies\n",
      "0.61 -- Crow, The\n"
     ]
    }
   ],
   "source": [
    "print_recommendations(rs_model, movies_mapper, \"Batman Returns\")"
   ]
  },
  {
   "cell_type": "code",
   "execution_count": 29,
   "metadata": {},
   "outputs": [
    {
     "name": "stdout",
     "output_type": "stream",
     "text": [
      "0.66 -- Under Siege\n",
      "0.62 -- Top Gun\n",
      "0.62 -- True Lies\n",
      "0.62 -- Batman\n",
      "0.60 -- Stargate\n",
      "0.60 -- Cliffhanger\n"
     ]
    }
   ],
   "source": [
    "print_recommendations(rs_model, movies_mapper, \"GoldenEye\")"
   ]
  },
  {
   "cell_type": "code",
   "execution_count": 30,
   "metadata": {},
   "outputs": [
    {
     "name": "stdout",
     "output_type": "stream",
     "text": [
      "0.70 -- Star Wars\n",
      "0.67 -- Godfather: Part II, The\n",
      "0.65 -- Fargo\n",
      "0.63 -- Return of the Jedi\n",
      "0.59 -- Raiders of the Lost Ark\n",
      "0.58 -- Pulp Fiction\n"
     ]
    }
   ],
   "source": [
    "print_recommendations(rs_model, movies_mapper, \"Godfather, The\")"
   ]
  },
  {
   "cell_type": "code",
   "execution_count": 31,
   "metadata": {},
   "outputs": [
    {
     "name": "stdout",
     "output_type": "stream",
     "text": [
      "0.50 -- Dumb & Dumber\n",
      "0.49 -- Ace Ventura: Pet Detective\n",
      "0.45 -- Hot Shots! Part Deux\n",
      "0.44 -- Brady Bunch Movie, The\n",
      "0.44 -- Young Guns II\n",
      "0.43 -- Tommy Boy\n"
     ]
    }
   ],
   "source": [
    "print_recommendations(rs_model, movies_mapper, \"Billy Madison\")"
   ]
  },
  {
   "cell_type": "code",
   "execution_count": 32,
   "metadata": {},
   "outputs": [
    {
     "name": "stdout",
     "output_type": "stream",
     "text": [
      "0.75 -- Aladdin\n",
      "0.69 -- Beauty and the Beast\n",
      "0.68 -- Forrest Gump\n",
      "0.66 -- Jurassic Park\n",
      "0.65 -- E.T. the Extra-Terrestrial\n",
      "0.65 -- Empire Strikes Back, The\n"
     ]
    }
   ],
   "source": [
    "print_recommendations(rs_model, movies_mapper, \"Lion King, The\")"
   ]
  },
  {
   "cell_type": "code",
   "execution_count": 33,
   "metadata": {},
   "outputs": [
    {
     "name": "stdout",
     "output_type": "stream",
     "text": [
      "0.88 -- Return of the Jedi\n",
      "0.76 -- Raiders of the Lost Ark\n",
      "0.75 -- Empire Strikes Back, The\n",
      "0.73 -- Toy Story\n",
      "0.70 -- Godfather, The\n",
      "0.69 -- Independence Day (ID4)\n"
     ]
    }
   ],
   "source": [
    "print_recommendations(rs_model, movies_mapper, \"Star Wars\")"
   ]
  },
  {
   "cell_type": "markdown",
   "metadata": {},
   "source": [
    "# Conclusion\n",
    "\n",
    "What can we say about those recommendations?\n",
    "\n",
    "Some recommendations are pretty good. For example, \"Batman Returns\" is similar to other Batman movies, that's for sure. \"The Lion King\" is similar to \"Aladdin\" and \"Beauty and the Beast\" (Disney movies). \"Star Wars\" is similar to other Star Wars movies.\n",
    "\n",
    "Some of them does not make much sense. \"Toy Story\" does not seems so similar to \"The Rock\" and \"Mission: Impossible\" to me. \"The Lion King\" is not so similar to \"Jurassic Park\" too, aside that both have animals as their main feature. And I certainly cannot understand the similarity between \"The Godfather\" movies with \"Star Wars\" movies.\n",
    "\n",
    "Personal conclusions aside, there are some well-known advantages of memory-based Collaborative Filtering systems in literature. Some of them are:\n",
    "\n",
    "* **Explainability of the results:** which is an important aspect of recommendations systems;\n",
    "* **Easy of creation and use:** all methodology is purely based in manipulations of the interactions matrix;\n",
    "* **Content-independence of the items being recommended:** no descriptions, nor genre definitions, nor color definitions, nor size definition, etc. No metadata at all.\n",
    "\n",
    "But nothing in this world is perfect, and this approach suffers from disadvantages too. Some of them are:\n",
    "\n",
    "* **Performance decreases when data gets more sparse:** which occurs frequently with web-related items;\n",
    "* **Adding new items becomes more complicated:** since the data sctructures representations as an interactions matrix relies on a specific *vector space*, adding new items requires inclusion of the new item and the re-insertion of all elements in the structure.\n",
    "* **Recommendations tend to be already popular:** items from the so-called [long-tail](https://en.wikipedia.org/wiki/Long_tail) section might get ignored."
   ]
  },
  {
   "cell_type": "markdown",
   "metadata": {},
   "source": [
    "The notebook of this post can found [here](https://github.com/TheCamilovisk/DSNotebooks/blob/main/RecommenderSystems/CollaborativeFilteringMemoryBased.ipynb).\n",
    "\n",
    "A great thanks to [Ethan Rosenthal](https://www.ethanrosenthal.com/#), the author of the [blog post](https://www.ethanrosenthal.com/2015/11/02/intro-to-collaborative-filtering/) which of the ideas and concepts presented here were based on.\n",
    "\n",
    "Other usefull links:\n",
    "* [Wikipedia's article on Collaborative Filtering.](https://realpython.com/build-recommendation-engine-collaborative-filtering/#model-based)\n",
    "* [Real Python post on Collaborative Filtering.](https://realpython.com/build-recommendation-engine-collaborative-filtering/#model-based)\n",
    "* [Data Flair Recommendations System Project in R.](https://data-flair.training/blogs/data-science-r-movie-recommendation/)\n",
    "* [Optuna page.](https://optuna.org/)\n",
    "\n",
    "Books of interest:\n",
    "* [Mining of Massive Datasets](https://www.amazon.com.br/dp/1107077230/?tag=n) by Jure Leskovec, Anand Rajaraman, Jeff Ullman\n",
    "* [Programming Collective Intelligence](https://www.amazon.com.br/dp/0596529325/?tag=n) by Toby Segaran\n",
    "\n",
    "Thanks for reading to the end, and stay tuned for new posts."
   ]
  }
 ],
 "metadata": {
  "kernelspec": {
   "display_name": "Python 3 (ipykernel)",
   "language": "python",
   "name": "python3"
  },
  "language_info": {
   "codemirror_mode": {
    "name": "ipython",
    "version": 3
   },
   "file_extension": ".py",
   "mimetype": "text/x-python",
   "name": "python",
   "nbconvert_exporter": "python",
   "pygments_lexer": "ipython3",
   "version": "3.10.9"
  }
 },
 "nbformat": 4,
 "nbformat_minor": 4
}
